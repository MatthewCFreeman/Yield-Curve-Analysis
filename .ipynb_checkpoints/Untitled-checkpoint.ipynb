{
 "cells": [
  {
   "cell_type": "markdown",
   "metadata": {},
   "source": [
    "# Investigation of Yield Curve Data and Broad Market Forecasting Ability\n",
    "\n",
    "The yield curve is a series of data points, usually displayed as a continuous line, showing at what rates borrowers in the debt markets can get loans across different maturities. Those borrowing over a longer term can usually be expected to pay higher interest rates as market forces dictating shorter term rates are usually believed to be less risky to lenders, though there are other mechanics determining interest rates. The majority of these debts for the U.S. yield curve are based on U.S. government T-bills. \n",
    "\n",
    "It is widely considered true by economists that the U.S. yield curve can have an affect on the U.S. economy. The theory goes that when the usually positive lending period to interest rate relationship turns negative companies are more likely to avoid borrowing, which can lead to reduced cycles of investment, demand and economic growth. In fact, the last three times the U.S. 10-year rate has been lower than the 3-year rate recessions have followed only 6-12 months later. \n",
    "\n",
    "\n",
    "I have taken public time-series data from the U.S. Department of the Treasury regarding yield curve rates and will combine it with time-series data on equities, bonds, and fed base rates to try and find heuristic forecasting insights. I will also test out some machine learning methods to see if they can be helpful."
   ]
  },
  {
   "cell_type": "markdown",
   "metadata": {},
   "source": [
    "## Importing Data\n",
    "\n",
    "Public .xml data was initially brought over and cleaned up using google sheets where some market data could be merged. Note that yield curve data is missing for some maturities over the past few decades."
   ]
  },
  {
   "cell_type": "code",
   "execution_count": 1,
   "metadata": {},
   "outputs": [],
   "source": [
    "import pandas as pd\n",
    "df = pd.read_csv('Yield_Data.csv')"
   ]
  },
  {
   "cell_type": "code",
   "execution_count": 2,
   "metadata": {},
   "outputs": [
    {
     "data": {
      "text/html": [
       "<div>\n",
       "<style scoped>\n",
       "    .dataframe tbody tr th:only-of-type {\n",
       "        vertical-align: middle;\n",
       "    }\n",
       "\n",
       "    .dataframe tbody tr th {\n",
       "        vertical-align: top;\n",
       "    }\n",
       "\n",
       "    .dataframe thead th {\n",
       "        text-align: right;\n",
       "    }\n",
       "</style>\n",
       "<table border=\"1\" class=\"dataframe\">\n",
       "  <thead>\n",
       "    <tr style=\"text-align: right;\">\n",
       "      <th></th>\n",
       "      <th>Date</th>\n",
       "      <th>1 Month</th>\n",
       "      <th>2 Month</th>\n",
       "      <th>3 Month</th>\n",
       "      <th>6 Month</th>\n",
       "      <th>1 Year</th>\n",
       "      <th>2 Year</th>\n",
       "      <th>3 Year</th>\n",
       "      <th>5 Year</th>\n",
       "      <th>7 Year</th>\n",
       "      <th>10 Year</th>\n",
       "      <th>20 Year</th>\n",
       "      <th>30 Year</th>\n",
       "      <th>SPY ETF Price</th>\n",
       "      <th>AGG ETF Price</th>\n",
       "    </tr>\n",
       "  </thead>\n",
       "  <tbody>\n",
       "    <tr>\n",
       "      <th>0</th>\n",
       "      <td>02/01/1990</td>\n",
       "      <td>NaN</td>\n",
       "      <td>NaN</td>\n",
       "      <td>7.83</td>\n",
       "      <td>7.89</td>\n",
       "      <td>7.81</td>\n",
       "      <td>7.87</td>\n",
       "      <td>7.90</td>\n",
       "      <td>7.87</td>\n",
       "      <td>7.98</td>\n",
       "      <td>7.94</td>\n",
       "      <td>NaN</td>\n",
       "      <td>8.00</td>\n",
       "      <td>NaN</td>\n",
       "      <td>NaN</td>\n",
       "    </tr>\n",
       "    <tr>\n",
       "      <th>1</th>\n",
       "      <td>03/01/1990</td>\n",
       "      <td>NaN</td>\n",
       "      <td>NaN</td>\n",
       "      <td>7.89</td>\n",
       "      <td>7.94</td>\n",
       "      <td>7.85</td>\n",
       "      <td>7.94</td>\n",
       "      <td>7.96</td>\n",
       "      <td>7.92</td>\n",
       "      <td>8.04</td>\n",
       "      <td>7.99</td>\n",
       "      <td>NaN</td>\n",
       "      <td>8.04</td>\n",
       "      <td>NaN</td>\n",
       "      <td>NaN</td>\n",
       "    </tr>\n",
       "    <tr>\n",
       "      <th>2</th>\n",
       "      <td>04/01/1990</td>\n",
       "      <td>NaN</td>\n",
       "      <td>NaN</td>\n",
       "      <td>7.84</td>\n",
       "      <td>7.90</td>\n",
       "      <td>7.82</td>\n",
       "      <td>7.92</td>\n",
       "      <td>7.93</td>\n",
       "      <td>7.91</td>\n",
       "      <td>8.02</td>\n",
       "      <td>7.98</td>\n",
       "      <td>NaN</td>\n",
       "      <td>8.04</td>\n",
       "      <td>NaN</td>\n",
       "      <td>NaN</td>\n",
       "    </tr>\n",
       "    <tr>\n",
       "      <th>3</th>\n",
       "      <td>05/01/1990</td>\n",
       "      <td>NaN</td>\n",
       "      <td>NaN</td>\n",
       "      <td>7.79</td>\n",
       "      <td>7.85</td>\n",
       "      <td>7.79</td>\n",
       "      <td>7.90</td>\n",
       "      <td>7.94</td>\n",
       "      <td>7.92</td>\n",
       "      <td>8.03</td>\n",
       "      <td>7.99</td>\n",
       "      <td>NaN</td>\n",
       "      <td>8.06</td>\n",
       "      <td>NaN</td>\n",
       "      <td>NaN</td>\n",
       "    </tr>\n",
       "    <tr>\n",
       "      <th>4</th>\n",
       "      <td>08/01/1990</td>\n",
       "      <td>NaN</td>\n",
       "      <td>NaN</td>\n",
       "      <td>7.79</td>\n",
       "      <td>7.88</td>\n",
       "      <td>7.81</td>\n",
       "      <td>7.90</td>\n",
       "      <td>7.95</td>\n",
       "      <td>7.92</td>\n",
       "      <td>8.05</td>\n",
       "      <td>8.02</td>\n",
       "      <td>NaN</td>\n",
       "      <td>8.09</td>\n",
       "      <td>NaN</td>\n",
       "      <td>NaN</td>\n",
       "    </tr>\n",
       "  </tbody>\n",
       "</table>\n",
       "</div>"
      ],
      "text/plain": [
       "         Date  1 Month  2 Month  3 Month  6 Month  1 Year  2 Year  3 Year  \\\n",
       "0  02/01/1990      NaN      NaN     7.83     7.89    7.81    7.87    7.90   \n",
       "1  03/01/1990      NaN      NaN     7.89     7.94    7.85    7.94    7.96   \n",
       "2  04/01/1990      NaN      NaN     7.84     7.90    7.82    7.92    7.93   \n",
       "3  05/01/1990      NaN      NaN     7.79     7.85    7.79    7.90    7.94   \n",
       "4  08/01/1990      NaN      NaN     7.79     7.88    7.81    7.90    7.95   \n",
       "\n",
       "   5 Year  7 Year  10 Year  20 Year  30 Year SPY ETF Price AGG ETF Price  \n",
       "0    7.87    7.98     7.94      NaN     8.00           NaN           NaN  \n",
       "1    7.92    8.04     7.99      NaN     8.04           NaN           NaN  \n",
       "2    7.91    8.02     7.98      NaN     8.04           NaN           NaN  \n",
       "3    7.92    8.03     7.99      NaN     8.06           NaN           NaN  \n",
       "4    7.92    8.05     8.02      NaN     8.09           NaN           NaN  "
      ]
     },
     "execution_count": 2,
     "metadata": {},
     "output_type": "execute_result"
    }
   ],
   "source": [
    "df.head()"
   ]
  },
  {
   "cell_type": "markdown",
   "metadata": {},
   "source": [
    "## Making Visualisation of Yield Curve Evolution"
   ]
  },
  {
   "cell_type": "code",
   "execution_count": 3,
   "metadata": {},
   "outputs": [
    {
     "name": "stdout",
     "output_type": "stream",
     "text": [
      "   1 Month  2 Month  3 Month  6 Month  1 Year  2 Year  3 Year  5 Year  7 Year  \\\n",
      "0   0.0833   0.1666     0.25     0.50    1.00    2.00    3.00    5.00    7.00   \n",
      "1      NaN      NaN     7.83     7.89    7.81    7.87    7.90    7.87    7.98   \n",
      "2      NaN      NaN     7.89     7.94    7.85    7.94    7.96    7.92    8.04   \n",
      "3      NaN      NaN     7.84     7.90    7.82    7.92    7.93    7.91    8.02   \n",
      "4      NaN      NaN     7.79     7.85    7.79    7.90    7.94    7.92    8.03   \n",
      "\n",
      "   10 Year  20 Year  30 Year  \n",
      "0    10.00     20.0    30.00  \n",
      "1     7.94      NaN     8.00  \n",
      "2     7.99      NaN     8.04  \n",
      "3     7.98      NaN     8.04  \n",
      "4     7.99      NaN     8.06  \n"
     ]
    }
   ],
   "source": [
    "df_yields = df.iloc[:,1:13]\n",
    "df_yields.loc[-1] = [0.0833,0.1666,0.25,0.5,1,2,3,5,7,10,20,30]\n",
    "df_yields.index = df_yields.index + 1\n",
    "df_yields = df_yields.sort_index()\n",
    "print(df_yields.head())"
   ]
  },
  {
   "cell_type": "code",
   "execution_count": 145,
   "metadata": {},
   "outputs": [],
   "source": [
    "import matplotlib.pyplot as plt\n",
    "import matplotlib.font_manager as fm\n",
    "import numpy as np"
   ]
  },
  {
   "cell_type": "code",
   "execution_count": 5,
   "metadata": {},
   "outputs": [
    {
     "name": "stdout",
     "output_type": "stream",
     "text": [
      "0.0\n",
      "9.18\n"
     ]
    },
    {
     "data": {
      "image/png": "[encoded data removed]",
      "text/plain": [
       "<Figure size 432x288 with 1 Axes>"
      ]
     },
     "metadata": {
      "needs_background": "light"
     },
     "output_type": "display_data"
    }
   ],
   "source": [
    "x = list(df_yields.iloc[0])\n",
    "y = list(df_yields.iloc[100])\n",
    "xClean,yClean = zip(* filter( lambda clean: np.isnan(clean[1])==False  , zip(x,y) ))\n",
    "plt.plot(xClean, yClean)\n",
    "\n",
    "min_axes_y = df_yields.iloc[1:,:].min().min()\n",
    "max_axes_y = df_yields.iloc[1:,:].max().max()\n",
    "print(min_axes_y)\n",
    "print(max_axes_y)"
   ]
  },
  {
   "cell_type": "code",
   "execution_count": 178,
   "metadata": {},
   "outputs": [],
   "source": [
    "import matplotlib.animation as animation\n",
    "from matplotlib import gridspec\n",
    "import seaborn as sns"
   ]
  },
  {
   "cell_type": "code",
   "execution_count": 217,
   "metadata": {},
   "outputs": [
    {
     "data": {
      "image/png": "[encoded data removed]",
      "text/plain": [
       "<Figure size 1080x576 with 3 Axes>"
      ]
     },
     "metadata": {},
     "output_type": "display_data"
    }
   ],
   "source": [
    "Writer = animation.writers['ffmpeg']\n",
    "writer = Writer(fps=20, metadata=dict(artist='Matthew C. Freeman'), bitrate=1800)\n",
    "\n",
    "\n",
    "fig, (ax0, ax1, ax2) = plt.subplots(1, 3, sharey=True, figsize=(15,8))\n",
    "titletext = fig.suptitle([], fontname='PlayfairDisplay-Regular', fontsize=20)\n",
    "fig.text(x=1.0, y=0.95, s='Sources: U.S. Department of the Treasury \\n Google Finance ', \n",
    "        horizontalalignment='right',color='#524939')\n",
    "fig.patch.set_facecolor('#FEF1E5')\n",
    "gs = gridspec.GridSpec(1, 3, width_ratios=[6, 1, 1]) \n",
    "\n",
    "ax0 = plt.subplot(gs[0])\n",
    "ax0.patch.set_facecolor('#FBEADC')\n",
    "ax0.set_xlim(0, 30)\n",
    "ax0.set_ylim(min_axes_y, max_axes_y)\n",
    "ax0.set_xlabel('Maturity (Years)',fontsize=20)\n",
    "ax0.set_ylabel('Yield (%)',fontsize=20)\n",
    "line, = ax0.plot([], [], color='r')\n",
    "ax0.set_yticks(np.arange(np.floor(min_axes_y), np.ceil(max_axes_y+1), 1))\n",
    "ax0.minorticks_on()\n",
    "ax0.grid(b=True, which='major', axis='x')\n",
    "ax0.grid(b=True, which='minor', axis='x', linestyle=':', linewidth=0.5)\n",
    "\n",
    "ax1 = plt.subplot(gs[1])\n",
    "ax1.patch.set_facecolor('#FBEADC')\n",
    "\n",
    "\n",
    "ax2 = plt.subplot(gs[2])\n",
    "ax2.patch.set_facecolor('#FBEADC')\n"
   ]
  },
  {
   "cell_type": "code",
   "execution_count": 212,
   "metadata": {},
   "outputs": [],
   "source": [
    "def init():\n",
    "    line.set_data([], [])\n",
    "    titletext.set_text([])\n",
    "    return line, titletext"
   ]
  },
  {
   "cell_type": "code",
   "execution_count": 213,
   "metadata": {},
   "outputs": [],
   "source": [
    "offset = 4029 #Beginning excel row\n",
    "ending = 7374 #Ending excel row (this may not exactly be the ending in the video)\n",
    "speed = 2 #Multiplier when skipping every n data rows for frames shown in the video."
   ]
  },
  {
   "cell_type": "code",
   "execution_count": 214,
   "metadata": {},
   "outputs": [],
   "source": [
    "def animate(i):\n",
    "    x = list(df_yields.iloc[0])\n",
    "    y = list(df_yields.iloc[i*speed+offset-1])\n",
    "    xClean,yClean = zip(* filter( lambda clean: np.isnan(clean[1])==False  , zip(x,y) ))\n",
    "    titletext.set_text('U.S. Treasury Yield Curve Evolution \\n'+str(df.Date[i*speed+offset-2][3:]))\n",
    "    line.set_data(xClean, yClean)\n",
    "    return line, titletext"
   ]
  },
  {
   "cell_type": "code",
   "execution_count": 215,
   "metadata": {},
   "outputs": [],
   "source": [
    "ani = animation.FuncAnimation(fig, animate, init_func=init, frames=(ending-offset)//speed, blit=True)"
   ]
  },
  {
   "cell_type": "code",
   "execution_count": 216,
   "metadata": {},
   "outputs": [],
   "source": [
    "ani.save('Yield_Curve.mp4', writer=writer)"
   ]
  },
  {
   "cell_type": "code",
   "execution_count": null,
   "metadata": {},
   "outputs": [],
   "source": []
  }
 ],
 "metadata": {
  "kernelspec": {
   "display_name": "learn-env",
   "language": "python",
   "name": "learn-env"
  },
  "language_info": {
   "codemirror_mode": {
    "name": "ipython",
    "version": 3
   },
   "file_extension": ".py",
   "mimetype": "text/x-python",
   "name": "python",
   "nbconvert_exporter": "python",
   "pygments_lexer": "ipython3",
   "version": "3.6.6"
  }
 },
 "nbformat": 4,
 "nbformat_minor": 2
}
